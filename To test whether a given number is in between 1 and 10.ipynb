{
 "cells": [
  {
   "cell_type": "markdown",
   "id": "1b9ca242-7406-4e1e-800d-aea38fe03f96",
   "metadata": {},
   "source": [
    "**Write a program to test whether a given number is in between 1 and 10**"
   ]
  },
  {
   "cell_type": "code",
   "execution_count": 1,
   "id": "4a7e464f-b3ce-44f6-97d0-216a2a0a9907",
   "metadata": {},
   "outputs": [
    {
     "name": "stdin",
     "output_type": "stream",
     "text": [
      "Enter the number: 35\n"
     ]
    }
   ],
   "source": [
    "#Taking input from the user\n",
    "x=float(input(\"Enter the number:\"))"
   ]
  },
  {
   "cell_type": "code",
   "execution_count": 2,
   "id": "fb3c25ec-246c-4bcd-b0e8-6eb4054c80a3",
   "metadata": {},
   "outputs": [
    {
     "name": "stdout",
     "output_type": "stream",
     "text": [
      "The number 35.0 is not present in the mentioned range\n"
     ]
    }
   ],
   "source": [
    "#Checking whether the number is present between 1 and 10\n",
    "if(1<=x<=10):\n",
    "    print(\"The number {} is present between 1 and 10\".format(x))\n",
    "else:\n",
    "    print(\"The number {} is not present in the mentioned range\".format(x))"
   ]
  },
  {
   "cell_type": "code",
   "execution_count": null,
   "id": "fde5b823-62a2-4c7d-b2c7-514e84c35171",
   "metadata": {},
   "outputs": [],
   "source": []
  },
  {
   "cell_type": "code",
   "execution_count": null,
   "id": "50389537-b7c3-4c33-af81-6500c1cbc224",
   "metadata": {},
   "outputs": [],
   "source": []
  },
  {
   "cell_type": "code",
   "execution_count": null,
   "id": "89c1102c-6506-486d-b2d0-6a3587dc7031",
   "metadata": {},
   "outputs": [],
   "source": []
  },
  {
   "cell_type": "code",
   "execution_count": null,
   "id": "86861cad-7868-4099-ad79-5408937b0c75",
   "metadata": {},
   "outputs": [],
   "source": []
  },
  {
   "cell_type": "code",
   "execution_count": null,
   "id": "61737989-1091-4a7c-92fe-e32171e99641",
   "metadata": {},
   "outputs": [],
   "source": []
  },
  {
   "cell_type": "code",
   "execution_count": null,
   "id": "718ce087-ee45-48ea-8db0-d371db1f7769",
   "metadata": {},
   "outputs": [],
   "source": []
  },
  {
   "cell_type": "code",
   "execution_count": null,
   "id": "19337b71-bddb-49d9-b641-d5167fa831c7",
   "metadata": {},
   "outputs": [],
   "source": []
  }
 ],
 "metadata": {
  "kernelspec": {
   "display_name": "Python 3 (ipykernel)",
   "language": "python",
   "name": "python3"
  },
  "language_info": {
   "codemirror_mode": {
    "name": "ipython",
    "version": 3
   },
   "file_extension": ".py",
   "mimetype": "text/x-python",
   "name": "python",
   "nbconvert_exporter": "python",
   "pygments_lexer": "ipython3",
   "version": "3.12.7"
  }
 },
 "nbformat": 4,
 "nbformat_minor": 5
}
